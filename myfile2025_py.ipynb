{
  "nbformat": 4,
  "nbformat_minor": 0,
  "metadata": {
    "colab": {
      "provenance": [],
      "toc_visible": true
    },
    "kernelspec": {
      "name": "python3",
      "display_name": "Python 3"
    },
    "language_info": {
      "name": "python"
    }
  },
  "cells": [
    {
      "cell_type": "code",
      "execution_count": 2,
      "metadata": {
        "colab": {
          "base_uri": "https://localhost:8080/"
        },
        "id": "9v3E83Sgaojo",
        "outputId": "d302e8b3-f071-4f00-8fe5-7d7924110f28"
      },
      "outputs": [
        {
          "output_type": "stream",
          "name": "stdout",
          "text": [
            "Number is positive\n",
            "0 1 2 3 4 5 6 7 8 9 \n"
          ]
        }
      ],
      "source": [
        "\n",
        "num = 10\n",
        "\n",
        "if num > 0:\n",
        "    print(\"Number is positive\")\n",
        "\n",
        "    for i in range(num):\n",
        "        print(i, end=\" \")\n",
        "    print()\n",
        "\n",
        "else:\n",
        "    print(\"Number is not positive\")\n",
        "\n"
      ]
    }
  ]
}